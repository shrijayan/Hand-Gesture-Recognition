{
  "cells": [
    {
      "cell_type": "code",
      "execution_count": 14,
      "metadata": {},
      "outputs": [
        {
          "name": "stdout",
          "output_type": "stream",
          "text": [
            "Requirement already satisfied: numpy in ./.conda/lib/python3.10/site-packages (1.26.4)\n",
            "\u001b[31mERROR: Could not find a version that satisfies the requirement tensorflow==2.3.0 (from versions: 2.13.0rc0, 2.13.0rc1, 2.13.0rc2, 2.13.0, 2.13.1, 2.14.0rc0, 2.14.0rc1, 2.14.0, 2.14.1, 2.15.0rc0, 2.15.0rc1, 2.15.0, 2.15.1, 2.16.0rc0, 2.16.1)\u001b[0m\u001b[31m\n",
            "\u001b[0m\u001b[31mERROR: No matching distribution found for tensorflow==2.3.0\u001b[0m\u001b[31m\n",
            "\u001b[0mRequirement already satisfied: scikit-learn in ./.conda/lib/python3.10/site-packages (1.5.0)\n",
            "Requirement already satisfied: numpy>=1.19.5 in ./.conda/lib/python3.10/site-packages (from scikit-learn) (1.26.4)\n",
            "Requirement already satisfied: scipy>=1.6.0 in ./.conda/lib/python3.10/site-packages (from scikit-learn) (1.13.1)\n",
            "Requirement already satisfied: joblib>=1.2.0 in ./.conda/lib/python3.10/site-packages (from scikit-learn) (1.4.2)\n",
            "Requirement already satisfied: threadpoolctl>=3.1.0 in ./.conda/lib/python3.10/site-packages (from scikit-learn) (3.5.0)\n",
            "Requirement already satisfied: visualkeras in ./.conda/lib/python3.10/site-packages (0.0.2)\n",
            "Requirement already satisfied: pillow>=6.2.0 in ./.conda/lib/python3.10/site-packages (from visualkeras) (10.3.0)\n",
            "Requirement already satisfied: numpy>=1.18.1 in ./.conda/lib/python3.10/site-packages (from visualkeras) (1.26.4)\n",
            "Requirement already satisfied: aggdraw>=1.3.11 in ./.conda/lib/python3.10/site-packages (from visualkeras) (1.3.18.post0)\n"
          ]
        }
      ],
      "source": [
        "# !pip install numpy\n",
        "# !pip install tensorflow==2.3.0\n",
        "# !pip install scikit-learn\n",
        "# !pip install visualkeras"
      ]
    },
    {
      "cell_type": "code",
      "execution_count": 1,
      "metadata": {
        "id": "igMyGnjE9hEp"
      },
      "outputs": [],
      "source": [
        "import csv\n",
        "\n",
        "import numpy as np\n",
        "import tensorflow as tf\n",
        "from sklearn.model_selection import train_test_split\n",
        "import pandas\n",
        "RANDOM_SEED = 42"
      ]
    },
    {
      "cell_type": "markdown",
      "metadata": {
        "id": "t2HDvhIu9hEr"
      },
      "source": [
        "# Specify each path"
      ]
    },
    {
      "cell_type": "code",
      "execution_count": 2,
      "metadata": {
        "id": "9NvZP2Zn9hEy"
      },
      "outputs": [],
      "source": [
        "dataset = 'model/keypoint_classifier/keypoint.csv'\n",
        "model_save_path = 'model/keypoint_classifier/keypoint_classifier.hdf5'\n",
        "tflite_save_path = 'model/keypoint_classifier/keypoint_classifier.tflite'"
      ]
    },
    {
      "cell_type": "markdown",
      "metadata": {
        "id": "s5oMH7x19hEz"
      },
      "source": [
        "# Set number of classes"
      ]
    },
    {
      "cell_type": "code",
      "execution_count": 3,
      "metadata": {
        "id": "du4kodXL9hEz"
      },
      "outputs": [],
      "source": [
        "NUM_CLASSES = 6"
      ]
    },
    {
      "cell_type": "markdown",
      "metadata": {
        "id": "XjnL0uso9hEz"
      },
      "source": [
        "# Dataset reading"
      ]
    },
    {
      "cell_type": "code",
      "execution_count": 4,
      "metadata": {
        "id": "QT5ZqtEz9hE0"
      },
      "outputs": [],
      "source": [
        "X_dataset = np.loadtxt(dataset, delimiter=',', dtype='float32', usecols=list(range(1, (21 * 2) + 1)))"
      ]
    },
    {
      "cell_type": "code",
      "execution_count": 5,
      "metadata": {
        "id": "QmoKFsp49hE0"
      },
      "outputs": [],
      "source": [
        "y_dataset = np.loadtxt(dataset, delimiter=',', dtype='int32', usecols=(0))"
      ]
    },
    {
      "cell_type": "code",
      "execution_count": 6,
      "metadata": {
        "id": "xQU7JTZ_9hE0"
      },
      "outputs": [],
      "source": [
        "X_train, X_test, y_train, y_test = train_test_split(X_dataset, y_dataset, train_size=0.75, random_state=RANDOM_SEED)"
      ]
    },
    {
      "cell_type": "markdown",
      "metadata": {
        "id": "mxK_lETT9hE0"
      },
      "source": [
        "# Model building"
      ]
    },
    {
      "cell_type": "code",
      "execution_count": 7,
      "metadata": {
        "id": "vHBmUf1t9hE1"
      },
      "outputs": [],
      "source": [
        "model = tf.keras.models.Sequential([\n",
        "    tf.keras.layers.Input((21 * 2, )),\n",
        "    tf.keras.layers.Dropout(0.2),\n",
        "    tf.keras.layers.Dense(20, activation='relu'),\n",
        "    tf.keras.layers.Dropout(0.4),\n",
        "    tf.keras.layers.Dense(10, activation='relu'),\n",
        "    tf.keras.layers.Dense(NUM_CLASSES, activation='softmax')\n",
        "])"
      ]
    },
    {
      "cell_type": "code",
      "execution_count": 8,
      "metadata": {
        "colab": {
          "base_uri": "https://localhost:8080/"
        },
        "id": "ypqky9tc9hE1",
        "outputId": "5db082bb-30e3-4110-bf63-a1ee777ecd46"
      },
      "outputs": [
        {
          "name": "stdout",
          "output_type": "stream",
          "text": [
            "Model: \"sequential\"\n",
            "_________________________________________________________________\n",
            " Layer (type)                Output Shape              Param #   \n",
            "=================================================================\n",
            " dropout (Dropout)           (None, 42)                0         \n",
            "                                                                 \n",
            " dense (Dense)               (None, 20)                860       \n",
            "                                                                 \n",
            " dropout_1 (Dropout)         (None, 20)                0         \n",
            "                                                                 \n",
            " dense_1 (Dense)             (None, 10)                210       \n",
            "                                                                 \n",
            " dense_2 (Dense)             (None, 6)                 66        \n",
            "                                                                 \n",
            "=================================================================\n",
            "Total params: 1136 (4.44 KB)\n",
            "Trainable params: 1136 (4.44 KB)\n",
            "Non-trainable params: 0 (0.00 Byte)\n",
            "_________________________________________________________________\n"
          ]
        }
      ],
      "source": [
        "model.summary()  # tf.keras.utils.plot_model(model, show_shapes=True)\n",
        "model.built = True"
      ]
    },
    {
      "cell_type": "code",
      "execution_count": 9,
      "metadata": {
        "id": "MbMjOflQ9hE1"
      },
      "outputs": [],
      "source": [
        "# Model checkpoint callback\n",
        "cp_callback = tf.keras.callbacks.ModelCheckpoint(\n",
        "    model_save_path, verbose=1, save_weights_only=False)\n",
        "# Callback for early stopping\n",
        "es_callback = tf.keras.callbacks.EarlyStopping(patience=20, verbose=1)\n"
      ]
    },
    {
      "cell_type": "code",
      "execution_count": 10,
      "metadata": {
        "id": "c3Dac0M_9hE2"
      },
      "outputs": [],
      "source": [
        "# Model compilation\n",
        "model.compile(\n",
        "    optimizer='adam',\n",
        "    loss='sparse_categorical_crossentropy',\n",
        "    metrics=['accuracy']\n",
        ")"
      ]
    },
    {
      "cell_type": "markdown",
      "metadata": {
        "id": "7XI0j1Iu9hE2"
      },
      "source": [
        "# Model training"
      ]
    },
    {
      "cell_type": "code",
      "execution_count": 11,
      "metadata": {
        "colab": {
          "base_uri": "https://localhost:8080/"
        },
        "id": "WirBl-JE9hE3",
        "outputId": "71b30ca2-8294-4d9d-8aa2-800d90d399de",
        "scrolled": true
      },
      "outputs": [
        {
          "name": "stdout",
          "output_type": "stream",
          "text": [
            "Epoch 1/1000\n",
            " 1/32 [..............................] - ETA: 5s - loss: 2.0032 - accuracy: 0.0938\n",
            "Epoch 1: saving model to model/keypoint_classifier/keypoint_classifier.hdf5\n",
            "32/32 [==============================] - 0s 4ms/step - loss: 1.8613 - accuracy: 0.1749 - val_loss: 1.7459 - val_accuracy: 0.2965\n",
            "Epoch 2/1000\n",
            " 1/32 [..............................] - ETA: 0s - loss: 1.7671 - accuracy: 0.2891\n",
            "Epoch 2: saving model to model/keypoint_classifier/keypoint_classifier.hdf5\n",
            "32/32 [==============================] - 0s 1ms/step - loss: 1.7377 - accuracy: 0.2872 - val_loss: 1.6498 - val_accuracy: 0.4010\n",
            "Epoch 3/1000\n",
            " 1/32 [..............................] - ETA: 0s - loss: 1.7055 - accuracy: 0.2734\n",
            "Epoch 3: saving model to model/keypoint_classifier/keypoint_classifier.hdf5\n",
            "32/32 [==============================] - 0s 1ms/step - loss: 1.6646 - accuracy: 0.3328 - val_loss: 1.5636 - val_accuracy: 0.4577\n",
            "Epoch 4/1000\n",
            " 1/32 [..............................] - ETA: 0s - loss: 1.6350 - accuracy: 0.3594\n",
            "Epoch 4: saving model to model/keypoint_classifier/keypoint_classifier.hdf5\n",
            "32/32 [==============================] - 0s 1ms/step - loss: 1.5838 - accuracy: 0.3780 - val_loss: 1.4775 - val_accuracy: 0.5107\n",
            "Epoch 5/1000\n",
            " 1/32 [..............................] - ETA: 0s - loss: 1.6257 - accuracy: 0.3906\n",
            "Epoch 5: saving model to model/keypoint_classifier/keypoint_classifier.hdf5\n",
            "32/32 [==============================] - 0s 1ms/step - loss: 1.5309 - accuracy: 0.4077 - val_loss: 1.4015 - val_accuracy: 0.5195\n",
            "Epoch 6/1000\n",
            " 1/32 [..............................] - ETA: 0s - loss: 1.4271 - accuracy: 0.5000\n",
            "Epoch 6: saving model to model/keypoint_classifier/keypoint_classifier.hdf5\n",
            "32/32 [==============================] - 0s 1ms/step - loss: 1.4788 - accuracy: 0.4278 - val_loss: 1.3340 - val_accuracy: 0.5320\n",
            "Epoch 7/1000\n",
            " 1/32 [..............................] - ETA: 0s - loss: 1.5009 - accuracy: 0.4062"
          ]
        },
        {
          "name": "stderr",
          "output_type": "stream",
          "text": [
            "/Users/shrijayan.rajendran/Desktop/hand-gesture-recognition-mediapipe/hand_env/lib/python3.8/site-packages/keras/src/engine/training.py:3000: UserWarning: You are saving your model as an HDF5 file via `model.save()`. This file format is considered legacy. We recommend using instead the native Keras format, e.g. `model.save('my_model.keras')`.\n",
            "  saving_api.save_model(\n"
          ]
        },
        {
          "name": "stdout",
          "output_type": "stream",
          "text": [
            "\n",
            "Epoch 7: saving model to model/keypoint_classifier/keypoint_classifier.hdf5\n",
            "32/32 [==============================] - 0s 1ms/step - loss: 1.4194 - accuracy: 0.4533 - val_loss: 1.2666 - val_accuracy: 0.5762\n",
            "Epoch 8/1000\n",
            " 1/32 [..............................] - ETA: 0s - loss: 1.3817 - accuracy: 0.4844\n",
            "Epoch 8: saving model to model/keypoint_classifier/keypoint_classifier.hdf5\n",
            "32/32 [==============================] - 0s 1ms/step - loss: 1.3753 - accuracy: 0.4785 - val_loss: 1.2088 - val_accuracy: 0.6130\n",
            "Epoch 9/1000\n",
            " 1/32 [..............................] - ETA: 0s - loss: 1.3814 - accuracy: 0.4688\n",
            "Epoch 9: saving model to model/keypoint_classifier/keypoint_classifier.hdf5\n",
            "32/32 [==============================] - 0s 1ms/step - loss: 1.3390 - accuracy: 0.4908 - val_loss: 1.1467 - val_accuracy: 0.6336\n",
            "Epoch 10/1000\n",
            " 1/32 [..............................] - ETA: 0s - loss: 1.3011 - accuracy: 0.5391\n",
            "Epoch 10: saving model to model/keypoint_classifier/keypoint_classifier.hdf5\n",
            "32/32 [==============================] - 0s 1ms/step - loss: 1.2958 - accuracy: 0.4984 - val_loss: 1.0937 - val_accuracy: 0.6512\n",
            "Epoch 11/1000\n",
            " 1/32 [..............................] - ETA: 0s - loss: 1.2755 - accuracy: 0.5312\n",
            "Epoch 11: saving model to model/keypoint_classifier/keypoint_classifier.hdf5\n",
            "32/32 [==============================] - 0s 1ms/step - loss: 1.2478 - accuracy: 0.5296 - val_loss: 1.0409 - val_accuracy: 0.6623\n",
            "Epoch 12/1000\n",
            " 1/32 [..............................] - ETA: 0s - loss: 1.2794 - accuracy: 0.4922\n",
            "Epoch 12: saving model to model/keypoint_classifier/keypoint_classifier.hdf5\n",
            "32/32 [==============================] - 0s 1ms/step - loss: 1.2374 - accuracy: 0.5261 - val_loss: 0.9996 - val_accuracy: 0.6784\n",
            "Epoch 13/1000\n",
            " 1/32 [..............................] - ETA: 0s - loss: 1.2361 - accuracy: 0.5312\n",
            "Epoch 13: saving model to model/keypoint_classifier/keypoint_classifier.hdf5\n",
            "32/32 [==============================] - 0s 1ms/step - loss: 1.1809 - accuracy: 0.5548 - val_loss: 0.9569 - val_accuracy: 0.6851\n",
            "Epoch 14/1000\n",
            " 1/32 [..............................] - ETA: 0s - loss: 1.2366 - accuracy: 0.5078\n",
            "Epoch 14: saving model to model/keypoint_classifier/keypoint_classifier.hdf5\n",
            "32/32 [==============================] - 0s 1ms/step - loss: 1.1663 - accuracy: 0.5612 - val_loss: 0.9167 - val_accuracy: 0.7013\n",
            "Epoch 15/1000\n",
            " 1/32 [..............................] - ETA: 0s - loss: 1.1268 - accuracy: 0.6016\n",
            "Epoch 15: saving model to model/keypoint_classifier/keypoint_classifier.hdf5\n",
            "32/32 [==============================] - 0s 1ms/step - loss: 1.1503 - accuracy: 0.5683 - val_loss: 0.8862 - val_accuracy: 0.7152\n",
            "Epoch 16/1000\n",
            " 1/32 [..............................] - ETA: 0s - loss: 1.1554 - accuracy: 0.5625\n",
            "Epoch 16: saving model to model/keypoint_classifier/keypoint_classifier.hdf5\n",
            "32/32 [==============================] - 0s 1ms/step - loss: 1.1135 - accuracy: 0.5850 - val_loss: 0.8526 - val_accuracy: 0.7454\n",
            "Epoch 17/1000\n",
            " 1/32 [..............................] - ETA: 0s - loss: 1.1030 - accuracy: 0.5469\n",
            "Epoch 17: saving model to model/keypoint_classifier/keypoint_classifier.hdf5\n",
            "32/32 [==============================] - 0s 1ms/step - loss: 1.0846 - accuracy: 0.5975 - val_loss: 0.8246 - val_accuracy: 0.7579\n",
            "Epoch 18/1000\n",
            " 1/32 [..............................] - ETA: 0s - loss: 1.1427 - accuracy: 0.5469\n",
            "Epoch 18: saving model to model/keypoint_classifier/keypoint_classifier.hdf5\n",
            "32/32 [==============================] - 0s 1ms/step - loss: 1.0738 - accuracy: 0.5963 - val_loss: 0.7959 - val_accuracy: 0.7594\n",
            "Epoch 19/1000\n",
            " 1/32 [..............................] - ETA: 0s - loss: 1.0197 - accuracy: 0.6250\n",
            "Epoch 19: saving model to model/keypoint_classifier/keypoint_classifier.hdf5\n",
            "32/32 [==============================] - 0s 1ms/step - loss: 1.0572 - accuracy: 0.5982 - val_loss: 0.7771 - val_accuracy: 0.7896\n",
            "Epoch 20/1000\n",
            " 1/32 [..............................] - ETA: 0s - loss: 1.0194 - accuracy: 0.6172\n",
            "Epoch 20: saving model to model/keypoint_classifier/keypoint_classifier.hdf5\n",
            "32/32 [==============================] - 0s 1ms/step - loss: 1.0503 - accuracy: 0.6112 - val_loss: 0.7605 - val_accuracy: 0.8006\n",
            "Epoch 21/1000\n",
            " 1/32 [..............................] - ETA: 0s - loss: 1.1250 - accuracy: 0.6250\n",
            "Epoch 21: saving model to model/keypoint_classifier/keypoint_classifier.hdf5\n",
            "32/32 [==============================] - 0s 997us/step - loss: 1.0270 - accuracy: 0.6147 - val_loss: 0.7388 - val_accuracy: 0.8087\n",
            "Epoch 22/1000\n",
            " 1/32 [..............................] - ETA: 0s - loss: 1.0247 - accuracy: 0.6719\n",
            "Epoch 22: saving model to model/keypoint_classifier/keypoint_classifier.hdf5\n",
            "32/32 [==============================] - 0s 997us/step - loss: 1.0014 - accuracy: 0.6272 - val_loss: 0.7190 - val_accuracy: 0.8102\n",
            "Epoch 23/1000\n",
            " 1/32 [..............................] - ETA: 0s - loss: 0.9163 - accuracy: 0.6719\n",
            "Epoch 23: saving model to model/keypoint_classifier/keypoint_classifier.hdf5\n",
            "32/32 [==============================] - 0s 1ms/step - loss: 1.0091 - accuracy: 0.6267 - val_loss: 0.7042 - val_accuracy: 0.8168\n",
            "Epoch 24/1000\n",
            " 1/32 [..............................] - ETA: 0s - loss: 0.9661 - accuracy: 0.6484\n",
            "Epoch 24: saving model to model/keypoint_classifier/keypoint_classifier.hdf5\n",
            "32/32 [==============================] - 0s 988us/step - loss: 0.9847 - accuracy: 0.6338 - val_loss: 0.6849 - val_accuracy: 0.8197\n",
            "Epoch 25/1000\n",
            " 1/32 [..............................] - ETA: 0s - loss: 0.9659 - accuracy: 0.6562\n",
            "Epoch 25: saving model to model/keypoint_classifier/keypoint_classifier.hdf5\n",
            "32/32 [==============================] - 0s 1ms/step - loss: 0.9737 - accuracy: 0.6353 - val_loss: 0.6740 - val_accuracy: 0.8219\n",
            "Epoch 26/1000\n",
            " 1/32 [..............................] - ETA: 0s - loss: 0.9747 - accuracy: 0.6953\n",
            "Epoch 26: saving model to model/keypoint_classifier/keypoint_classifier.hdf5\n",
            "32/32 [==============================] - 0s 1ms/step - loss: 0.9693 - accuracy: 0.6375 - val_loss: 0.6593 - val_accuracy: 0.8263\n",
            "Epoch 27/1000\n",
            " 1/32 [..............................] - ETA: 0s - loss: 0.9094 - accuracy: 0.6406\n",
            "Epoch 27: saving model to model/keypoint_classifier/keypoint_classifier.hdf5\n",
            "32/32 [==============================] - 0s 976us/step - loss: 0.9472 - accuracy: 0.6434 - val_loss: 0.6373 - val_accuracy: 0.8256\n",
            "Epoch 28/1000\n",
            " 1/32 [..............................] - ETA: 0s - loss: 0.8874 - accuracy: 0.7031\n",
            "Epoch 28: saving model to model/keypoint_classifier/keypoint_classifier.hdf5\n",
            "32/32 [==============================] - 0s 993us/step - loss: 0.9389 - accuracy: 0.6551 - val_loss: 0.6281 - val_accuracy: 0.8293\n",
            "Epoch 29/1000\n",
            " 1/32 [..............................] - ETA: 0s - loss: 0.8555 - accuracy: 0.6719\n",
            "Epoch 29: saving model to model/keypoint_classifier/keypoint_classifier.hdf5\n",
            "32/32 [==============================] - 0s 989us/step - loss: 0.9218 - accuracy: 0.6507 - val_loss: 0.6160 - val_accuracy: 0.8352\n",
            "Epoch 30/1000\n",
            " 1/32 [..............................] - ETA: 0s - loss: 0.9997 - accuracy: 0.6094\n",
            "Epoch 30: saving model to model/keypoint_classifier/keypoint_classifier.hdf5\n",
            "32/32 [==============================] - 0s 1ms/step - loss: 0.9306 - accuracy: 0.6505 - val_loss: 0.6055 - val_accuracy: 0.8374\n",
            "Epoch 31/1000\n",
            " 1/32 [..............................] - ETA: 0s - loss: 0.9652 - accuracy: 0.6328\n",
            "Epoch 31: saving model to model/keypoint_classifier/keypoint_classifier.hdf5\n",
            "32/32 [==============================] - 0s 1ms/step - loss: 0.9231 - accuracy: 0.6554 - val_loss: 0.5944 - val_accuracy: 0.8425\n",
            "Epoch 32/1000\n",
            " 1/32 [..............................] - ETA: 0s - loss: 1.1218 - accuracy: 0.5234\n",
            "Epoch 32: saving model to model/keypoint_classifier/keypoint_classifier.hdf5\n",
            "32/32 [==============================] - 0s 2ms/step - loss: 0.9128 - accuracy: 0.6615 - val_loss: 0.5897 - val_accuracy: 0.8447\n",
            "Epoch 33/1000\n",
            " 1/32 [..............................] - ETA: 0s - loss: 0.8879 - accuracy: 0.6484\n",
            "Epoch 33: saving model to model/keypoint_classifier/keypoint_classifier.hdf5\n",
            "32/32 [==============================] - 0s 1ms/step - loss: 0.9098 - accuracy: 0.6652 - val_loss: 0.5817 - val_accuracy: 0.8389\n",
            "Epoch 34/1000\n",
            " 1/32 [..............................] - ETA: 0s - loss: 0.9553 - accuracy: 0.6484\n",
            "Epoch 34: saving model to model/keypoint_classifier/keypoint_classifier.hdf5\n",
            "32/32 [==============================] - 0s 1ms/step - loss: 0.9041 - accuracy: 0.6696 - val_loss: 0.5690 - val_accuracy: 0.8469\n",
            "Epoch 35/1000\n",
            " 1/32 [..............................] - ETA: 0s - loss: 0.9296 - accuracy: 0.5859\n",
            "Epoch 35: saving model to model/keypoint_classifier/keypoint_classifier.hdf5\n",
            "32/32 [==============================] - 0s 1ms/step - loss: 0.8984 - accuracy: 0.6654 - val_loss: 0.5697 - val_accuracy: 0.8492\n",
            "Epoch 36/1000\n",
            " 1/32 [..............................] - ETA: 0s - loss: 0.7056 - accuracy: 0.7656\n",
            "Epoch 36: saving model to model/keypoint_classifier/keypoint_classifier.hdf5\n",
            "32/32 [==============================] - 0s 1ms/step - loss: 0.8818 - accuracy: 0.6721 - val_loss: 0.5549 - val_accuracy: 0.8595\n",
            "Epoch 37/1000\n",
            " 1/32 [..............................] - ETA: 0s - loss: 0.9958 - accuracy: 0.6562\n",
            "Epoch 37: saving model to model/keypoint_classifier/keypoint_classifier.hdf5\n",
            "32/32 [==============================] - 0s 1ms/step - loss: 0.8949 - accuracy: 0.6652 - val_loss: 0.5508 - val_accuracy: 0.8668\n",
            "Epoch 38/1000\n",
            " 1/32 [..............................] - ETA: 0s - loss: 0.7553 - accuracy: 0.7109\n",
            "Epoch 38: saving model to model/keypoint_classifier/keypoint_classifier.hdf5\n",
            "32/32 [==============================] - 0s 1ms/step - loss: 0.8673 - accuracy: 0.6851 - val_loss: 0.5479 - val_accuracy: 0.8543\n",
            "Epoch 39/1000\n",
            " 1/32 [..............................] - ETA: 0s - loss: 0.8019 - accuracy: 0.7109\n",
            "Epoch 39: saving model to model/keypoint_classifier/keypoint_classifier.hdf5\n",
            "32/32 [==============================] - 0s 1ms/step - loss: 0.8641 - accuracy: 0.6833 - val_loss: 0.5395 - val_accuracy: 0.8550\n",
            "Epoch 40/1000\n",
            " 1/32 [..............................] - ETA: 0s - loss: 0.7471 - accuracy: 0.7422\n",
            "Epoch 40: saving model to model/keypoint_classifier/keypoint_classifier.hdf5\n",
            "32/32 [==============================] - 0s 1ms/step - loss: 0.8624 - accuracy: 0.6919 - val_loss: 0.5300 - val_accuracy: 0.8587\n",
            "Epoch 41/1000\n",
            " 1/32 [..............................] - ETA: 0s - loss: 0.9834 - accuracy: 0.6328\n",
            "Epoch 41: saving model to model/keypoint_classifier/keypoint_classifier.hdf5\n",
            "32/32 [==============================] - 0s 1ms/step - loss: 0.8686 - accuracy: 0.6863 - val_loss: 0.5259 - val_accuracy: 0.8661\n",
            "Epoch 42/1000\n",
            " 1/32 [..............................] - ETA: 0s - loss: 0.8902 - accuracy: 0.6641\n",
            "Epoch 42: saving model to model/keypoint_classifier/keypoint_classifier.hdf5\n",
            "32/32 [==============================] - 0s 1ms/step - loss: 0.8530 - accuracy: 0.6909 - val_loss: 0.5216 - val_accuracy: 0.8698\n",
            "Epoch 43/1000\n",
            " 1/32 [..............................] - ETA: 0s - loss: 0.7820 - accuracy: 0.7188\n",
            "Epoch 43: saving model to model/keypoint_classifier/keypoint_classifier.hdf5\n",
            "32/32 [==============================] - 0s 1ms/step - loss: 0.8563 - accuracy: 0.6860 - val_loss: 0.5172 - val_accuracy: 0.8720\n",
            "Epoch 44/1000\n",
            " 1/32 [..............................] - ETA: 0s - loss: 0.7711 - accuracy: 0.6953\n",
            "Epoch 44: saving model to model/keypoint_classifier/keypoint_classifier.hdf5\n",
            "32/32 [==============================] - 0s 1ms/step - loss: 0.8397 - accuracy: 0.6895 - val_loss: 0.5011 - val_accuracy: 0.8815\n",
            "Epoch 45/1000\n",
            " 1/32 [..............................] - ETA: 0s - loss: 0.7988 - accuracy: 0.7500\n",
            "Epoch 45: saving model to model/keypoint_classifier/keypoint_classifier.hdf5\n",
            "32/32 [==============================] - 0s 1ms/step - loss: 0.8386 - accuracy: 0.6873 - val_loss: 0.4968 - val_accuracy: 0.8889\n",
            "Epoch 46/1000\n",
            " 1/32 [..............................] - ETA: 0s - loss: 0.8447 - accuracy: 0.6719\n",
            "Epoch 46: saving model to model/keypoint_classifier/keypoint_classifier.hdf5\n",
            "32/32 [==============================] - 0s 1ms/step - loss: 0.8311 - accuracy: 0.6949 - val_loss: 0.4936 - val_accuracy: 0.8837\n",
            "Epoch 47/1000\n",
            " 1/32 [..............................] - ETA: 0s - loss: 0.8922 - accuracy: 0.6641\n",
            "Epoch 47: saving model to model/keypoint_classifier/keypoint_classifier.hdf5\n",
            "32/32 [==============================] - 0s 1ms/step - loss: 0.8251 - accuracy: 0.6912 - val_loss: 0.4812 - val_accuracy: 0.8852\n",
            "Epoch 48/1000\n",
            " 1/32 [..............................] - ETA: 0s - loss: 0.7949 - accuracy: 0.6875\n",
            "Epoch 48: saving model to model/keypoint_classifier/keypoint_classifier.hdf5\n",
            "32/32 [==============================] - 0s 1ms/step - loss: 0.8460 - accuracy: 0.6924 - val_loss: 0.4888 - val_accuracy: 0.8749\n",
            "Epoch 49/1000\n",
            " 1/32 [..............................] - ETA: 0s - loss: 0.7950 - accuracy: 0.7031\n",
            "Epoch 49: saving model to model/keypoint_classifier/keypoint_classifier.hdf5\n",
            "32/32 [==============================] - 0s 1ms/step - loss: 0.8360 - accuracy: 0.6988 - val_loss: 0.4838 - val_accuracy: 0.8830\n",
            "Epoch 50/1000\n",
            " 1/32 [..............................] - ETA: 0s - loss: 0.8995 - accuracy: 0.6562\n",
            "Epoch 50: saving model to model/keypoint_classifier/keypoint_classifier.hdf5\n",
            "32/32 [==============================] - 0s 1ms/step - loss: 0.8240 - accuracy: 0.7025 - val_loss: 0.4852 - val_accuracy: 0.8823\n",
            "Epoch 51/1000\n",
            " 1/32 [..............................] - ETA: 0s - loss: 0.9873 - accuracy: 0.6406\n",
            "Epoch 51: saving model to model/keypoint_classifier/keypoint_classifier.hdf5\n",
            "32/32 [==============================] - 0s 1ms/step - loss: 0.8622 - accuracy: 0.6833 - val_loss: 0.4832 - val_accuracy: 0.8801\n",
            "Epoch 52/1000\n",
            " 1/32 [..............................] - ETA: 0s - loss: 0.7500 - accuracy: 0.7031\n",
            "Epoch 52: saving model to model/keypoint_classifier/keypoint_classifier.hdf5\n",
            "32/32 [==============================] - 0s 1ms/step - loss: 0.8314 - accuracy: 0.6993 - val_loss: 0.4760 - val_accuracy: 0.8845\n",
            "Epoch 53/1000\n",
            " 1/32 [..............................] - ETA: 0s - loss: 0.6346 - accuracy: 0.7578\n",
            "Epoch 53: saving model to model/keypoint_classifier/keypoint_classifier.hdf5\n",
            "32/32 [==============================] - 0s 1ms/step - loss: 0.8114 - accuracy: 0.7042 - val_loss: 0.4719 - val_accuracy: 0.8911\n",
            "Epoch 54/1000\n",
            " 1/32 [..............................] - ETA: 0s - loss: 0.8275 - accuracy: 0.6719\n",
            "Epoch 54: saving model to model/keypoint_classifier/keypoint_classifier.hdf5\n",
            "32/32 [==============================] - 0s 1ms/step - loss: 0.7920 - accuracy: 0.7022 - val_loss: 0.4679 - val_accuracy: 0.8837\n",
            "Epoch 55/1000\n",
            " 1/32 [..............................] - ETA: 0s - loss: 0.8966 - accuracy: 0.6875\n",
            "Epoch 55: saving model to model/keypoint_classifier/keypoint_classifier.hdf5\n",
            "32/32 [==============================] - 0s 1ms/step - loss: 0.7983 - accuracy: 0.7150 - val_loss: 0.4573 - val_accuracy: 0.8933\n",
            "Epoch 56/1000\n",
            " 1/32 [..............................] - ETA: 0s - loss: 0.7816 - accuracy: 0.7188\n",
            "Epoch 56: saving model to model/keypoint_classifier/keypoint_classifier.hdf5\n",
            "32/32 [==============================] - 0s 994us/step - loss: 0.8119 - accuracy: 0.7027 - val_loss: 0.4541 - val_accuracy: 0.8977\n",
            "Epoch 57/1000\n",
            " 1/32 [..............................] - ETA: 0s - loss: 0.7443 - accuracy: 0.6953\n",
            "Epoch 57: saving model to model/keypoint_classifier/keypoint_classifier.hdf5\n",
            "32/32 [==============================] - 0s 997us/step - loss: 0.8021 - accuracy: 0.6986 - val_loss: 0.4558 - val_accuracy: 0.8889\n",
            "Epoch 58/1000\n",
            " 1/32 [..............................] - ETA: 0s - loss: 0.7625 - accuracy: 0.7422\n",
            "Epoch 58: saving model to model/keypoint_classifier/keypoint_classifier.hdf5\n",
            "32/32 [==============================] - 0s 1ms/step - loss: 0.7930 - accuracy: 0.7076 - val_loss: 0.4504 - val_accuracy: 0.8933\n",
            "Epoch 59/1000\n",
            " 1/32 [..............................] - ETA: 0s - loss: 0.8788 - accuracy: 0.7188\n",
            "Epoch 59: saving model to model/keypoint_classifier/keypoint_classifier.hdf5\n",
            "32/32 [==============================] - 0s 1ms/step - loss: 0.8004 - accuracy: 0.7140 - val_loss: 0.4502 - val_accuracy: 0.8948\n",
            "Epoch 60/1000\n",
            " 1/32 [..............................] - ETA: 0s - loss: 0.7746 - accuracy: 0.7266\n",
            "Epoch 60: saving model to model/keypoint_classifier/keypoint_classifier.hdf5\n",
            "32/32 [==============================] - 0s 1ms/step - loss: 0.7985 - accuracy: 0.7096 - val_loss: 0.4434 - val_accuracy: 0.8999\n",
            "Epoch 61/1000\n",
            " 1/32 [..............................] - ETA: 0s - loss: 0.7129 - accuracy: 0.7656\n",
            "Epoch 61: saving model to model/keypoint_classifier/keypoint_classifier.hdf5\n",
            "32/32 [==============================] - 0s 980us/step - loss: 0.7882 - accuracy: 0.7116 - val_loss: 0.4399 - val_accuracy: 0.8992\n",
            "Epoch 62/1000\n",
            " 1/32 [..............................] - ETA: 0s - loss: 0.8086 - accuracy: 0.7109\n",
            "Epoch 62: saving model to model/keypoint_classifier/keypoint_classifier.hdf5\n",
            "32/32 [==============================] - 0s 1ms/step - loss: 0.7846 - accuracy: 0.7098 - val_loss: 0.4421 - val_accuracy: 0.8985\n",
            "Epoch 63/1000\n",
            " 1/32 [..............................] - ETA: 0s - loss: 0.7833 - accuracy: 0.6953\n",
            "Epoch 63: saving model to model/keypoint_classifier/keypoint_classifier.hdf5\n",
            "32/32 [==============================] - 0s 1ms/step - loss: 0.7994 - accuracy: 0.7037 - val_loss: 0.4438 - val_accuracy: 0.8940\n",
            "Epoch 64/1000\n",
            " 1/32 [..............................] - ETA: 0s - loss: 0.8418 - accuracy: 0.6875\n",
            "Epoch 64: saving model to model/keypoint_classifier/keypoint_classifier.hdf5\n",
            "32/32 [==============================] - 0s 1ms/step - loss: 0.8026 - accuracy: 0.7098 - val_loss: 0.4291 - val_accuracy: 0.9007\n",
            "Epoch 65/1000\n",
            " 1/32 [..............................] - ETA: 0s - loss: 0.7711 - accuracy: 0.7500\n",
            "Epoch 65: saving model to model/keypoint_classifier/keypoint_classifier.hdf5\n",
            "32/32 [==============================] - 0s 1ms/step - loss: 0.7863 - accuracy: 0.7123 - val_loss: 0.4249 - val_accuracy: 0.8977\n",
            "Epoch 66/1000\n",
            " 1/32 [..............................] - ETA: 0s - loss: 0.6869 - accuracy: 0.7656\n",
            "Epoch 66: saving model to model/keypoint_classifier/keypoint_classifier.hdf5\n",
            "32/32 [==============================] - 0s 1ms/step - loss: 0.7775 - accuracy: 0.7221 - val_loss: 0.4308 - val_accuracy: 0.8992\n",
            "Epoch 67/1000\n",
            " 1/32 [..............................] - ETA: 0s - loss: 0.6899 - accuracy: 0.7578\n",
            "Epoch 67: saving model to model/keypoint_classifier/keypoint_classifier.hdf5\n",
            "32/32 [==============================] - 0s 999us/step - loss: 0.8013 - accuracy: 0.7133 - val_loss: 0.4263 - val_accuracy: 0.8985\n",
            "Epoch 68/1000\n",
            " 1/32 [..............................] - ETA: 0s - loss: 0.7036 - accuracy: 0.7656\n",
            "Epoch 68: saving model to model/keypoint_classifier/keypoint_classifier.hdf5\n",
            "32/32 [==============================] - 0s 1ms/step - loss: 0.7722 - accuracy: 0.7268 - val_loss: 0.4159 - val_accuracy: 0.8999\n",
            "Epoch 69/1000\n",
            " 1/32 [..............................] - ETA: 0s - loss: 0.8030 - accuracy: 0.7109\n",
            "Epoch 69: saving model to model/keypoint_classifier/keypoint_classifier.hdf5\n",
            "32/32 [==============================] - 0s 1ms/step - loss: 0.7719 - accuracy: 0.7177 - val_loss: 0.4184 - val_accuracy: 0.8999\n",
            "Epoch 70/1000\n",
            " 1/32 [..............................] - ETA: 0s - loss: 0.6510 - accuracy: 0.7578\n",
            "Epoch 70: saving model to model/keypoint_classifier/keypoint_classifier.hdf5\n",
            "32/32 [==============================] - 0s 1ms/step - loss: 0.7608 - accuracy: 0.7246 - val_loss: 0.4175 - val_accuracy: 0.9029\n",
            "Epoch 71/1000\n",
            " 1/32 [..............................] - ETA: 0s - loss: 0.8090 - accuracy: 0.6953\n",
            "Epoch 71: saving model to model/keypoint_classifier/keypoint_classifier.hdf5\n",
            "32/32 [==============================] - 0s 987us/step - loss: 0.7675 - accuracy: 0.7167 - val_loss: 0.4179 - val_accuracy: 0.8977\n",
            "Epoch 72/1000\n",
            " 1/32 [..............................] - ETA: 0s - loss: 0.6852 - accuracy: 0.7500\n",
            "Epoch 72: saving model to model/keypoint_classifier/keypoint_classifier.hdf5\n",
            "32/32 [==============================] - 0s 997us/step - loss: 0.7725 - accuracy: 0.7116 - val_loss: 0.4214 - val_accuracy: 0.8985\n",
            "Epoch 73/1000\n",
            " 1/32 [..............................] - ETA: 0s - loss: 0.8446 - accuracy: 0.6875\n",
            "Epoch 73: saving model to model/keypoint_classifier/keypoint_classifier.hdf5\n",
            "32/32 [==============================] - 0s 1ms/step - loss: 0.7576 - accuracy: 0.7174 - val_loss: 0.4081 - val_accuracy: 0.9029\n",
            "Epoch 74/1000\n",
            " 1/32 [..............................] - ETA: 0s - loss: 0.8508 - accuracy: 0.6641\n",
            "Epoch 74: saving model to model/keypoint_classifier/keypoint_classifier.hdf5\n",
            "32/32 [==============================] - 0s 987us/step - loss: 0.7810 - accuracy: 0.7130 - val_loss: 0.4138 - val_accuracy: 0.9014\n",
            "Epoch 75/1000\n",
            " 1/32 [..............................] - ETA: 0s - loss: 0.7268 - accuracy: 0.7031\n",
            "Epoch 75: saving model to model/keypoint_classifier/keypoint_classifier.hdf5\n",
            "32/32 [==============================] - 0s 987us/step - loss: 0.7758 - accuracy: 0.7192 - val_loss: 0.4082 - val_accuracy: 0.9007\n",
            "Epoch 76/1000\n",
            " 1/32 [..............................] - ETA: 0s - loss: 0.6683 - accuracy: 0.7578\n",
            "Epoch 76: saving model to model/keypoint_classifier/keypoint_classifier.hdf5\n",
            "32/32 [==============================] - 0s 970us/step - loss: 0.7555 - accuracy: 0.7187 - val_loss: 0.4035 - val_accuracy: 0.9021\n",
            "Epoch 77/1000\n",
            " 1/32 [..............................] - ETA: 0s - loss: 0.6537 - accuracy: 0.7500\n",
            "Epoch 77: saving model to model/keypoint_classifier/keypoint_classifier.hdf5\n",
            "32/32 [==============================] - 0s 999us/step - loss: 0.7622 - accuracy: 0.7219 - val_loss: 0.4119 - val_accuracy: 0.8948\n",
            "Epoch 78/1000\n",
            " 1/32 [..............................] - ETA: 0s - loss: 0.8394 - accuracy: 0.6875\n",
            "Epoch 78: saving model to model/keypoint_classifier/keypoint_classifier.hdf5\n",
            "32/32 [==============================] - 0s 964us/step - loss: 0.7665 - accuracy: 0.7140 - val_loss: 0.4017 - val_accuracy: 0.9043\n",
            "Epoch 79/1000\n",
            " 1/32 [..............................] - ETA: 0s - loss: 0.8725 - accuracy: 0.6328\n",
            "Epoch 79: saving model to model/keypoint_classifier/keypoint_classifier.hdf5\n",
            "32/32 [==============================] - 0s 978us/step - loss: 0.7497 - accuracy: 0.7248 - val_loss: 0.3982 - val_accuracy: 0.9124\n",
            "Epoch 80/1000\n",
            " 1/32 [..............................] - ETA: 0s - loss: 0.8363 - accuracy: 0.7109\n",
            "Epoch 80: saving model to model/keypoint_classifier/keypoint_classifier.hdf5\n",
            "32/32 [==============================] - 0s 986us/step - loss: 0.7857 - accuracy: 0.7093 - val_loss: 0.3967 - val_accuracy: 0.9065\n",
            "Epoch 81/1000\n",
            " 1/32 [..............................] - ETA: 0s - loss: 0.7327 - accuracy: 0.7188\n",
            "Epoch 81: saving model to model/keypoint_classifier/keypoint_classifier.hdf5\n",
            "32/32 [==============================] - 0s 1ms/step - loss: 0.7803 - accuracy: 0.7133 - val_loss: 0.4060 - val_accuracy: 0.9036\n",
            "Epoch 82/1000\n",
            " 1/32 [..............................] - ETA: 0s - loss: 0.8227 - accuracy: 0.6719\n",
            "Epoch 82: saving model to model/keypoint_classifier/keypoint_classifier.hdf5\n",
            "32/32 [==============================] - 0s 1ms/step - loss: 0.7673 - accuracy: 0.7187 - val_loss: 0.3966 - val_accuracy: 0.9014\n",
            "Epoch 83/1000\n",
            " 1/32 [..............................] - ETA: 0s - loss: 0.6887 - accuracy: 0.7656\n",
            "Epoch 83: saving model to model/keypoint_classifier/keypoint_classifier.hdf5\n",
            "32/32 [==============================] - 0s 1ms/step - loss: 0.7571 - accuracy: 0.7273 - val_loss: 0.4009 - val_accuracy: 0.9080\n",
            "Epoch 84/1000\n",
            " 1/32 [..............................] - ETA: 0s - loss: 0.7442 - accuracy: 0.7266\n",
            "Epoch 84: saving model to model/keypoint_classifier/keypoint_classifier.hdf5\n",
            "32/32 [==============================] - 0s 1ms/step - loss: 0.7591 - accuracy: 0.7233 - val_loss: 0.3925 - val_accuracy: 0.9058\n",
            "Epoch 85/1000\n",
            " 1/32 [..............................] - ETA: 0s - loss: 0.8276 - accuracy: 0.7031\n",
            "Epoch 85: saving model to model/keypoint_classifier/keypoint_classifier.hdf5\n",
            "32/32 [==============================] - 0s 1ms/step - loss: 0.7630 - accuracy: 0.7184 - val_loss: 0.4001 - val_accuracy: 0.9088\n",
            "Epoch 86/1000\n",
            " 1/32 [..............................] - ETA: 0s - loss: 0.7969 - accuracy: 0.7031\n",
            "Epoch 86: saving model to model/keypoint_classifier/keypoint_classifier.hdf5\n",
            "32/32 [==============================] - 0s 1ms/step - loss: 0.7689 - accuracy: 0.7260 - val_loss: 0.3947 - val_accuracy: 0.9088\n",
            "Epoch 87/1000\n",
            " 1/32 [..............................] - ETA: 0s - loss: 0.8566 - accuracy: 0.7578\n",
            "Epoch 87: saving model to model/keypoint_classifier/keypoint_classifier.hdf5\n",
            "32/32 [==============================] - 0s 1ms/step - loss: 0.7565 - accuracy: 0.7206 - val_loss: 0.3899 - val_accuracy: 0.9073\n",
            "Epoch 88/1000\n",
            " 1/32 [..............................] - ETA: 0s - loss: 0.8022 - accuracy: 0.7031\n",
            "Epoch 88: saving model to model/keypoint_classifier/keypoint_classifier.hdf5\n",
            "32/32 [==============================] - 0s 975us/step - loss: 0.7707 - accuracy: 0.7187 - val_loss: 0.3947 - val_accuracy: 0.9080\n",
            "Epoch 89/1000\n",
            " 1/32 [..............................] - ETA: 0s - loss: 0.6167 - accuracy: 0.7969\n",
            "Epoch 89: saving model to model/keypoint_classifier/keypoint_classifier.hdf5\n",
            "32/32 [==============================] - 0s 1ms/step - loss: 0.7689 - accuracy: 0.7248 - val_loss: 0.3890 - val_accuracy: 0.9110\n",
            "Epoch 90/1000\n",
            " 1/32 [..............................] - ETA: 0s - loss: 0.8875 - accuracy: 0.6484\n",
            "Epoch 90: saving model to model/keypoint_classifier/keypoint_classifier.hdf5\n",
            "32/32 [==============================] - 0s 984us/step - loss: 0.7484 - accuracy: 0.7243 - val_loss: 0.3818 - val_accuracy: 0.9080\n",
            "Epoch 91/1000\n",
            " 1/32 [..............................] - ETA: 0s - loss: 0.6436 - accuracy: 0.8125\n",
            "Epoch 91: saving model to model/keypoint_classifier/keypoint_classifier.hdf5\n",
            "32/32 [==============================] - 0s 973us/step - loss: 0.7452 - accuracy: 0.7314 - val_loss: 0.3893 - val_accuracy: 0.9058\n",
            "Epoch 92/1000\n",
            " 1/32 [..............................] - ETA: 0s - loss: 0.8141 - accuracy: 0.7422\n",
            "Epoch 92: saving model to model/keypoint_classifier/keypoint_classifier.hdf5\n",
            "32/32 [==============================] - 0s 1000us/step - loss: 0.7296 - accuracy: 0.7353 - val_loss: 0.3847 - val_accuracy: 0.9132\n",
            "Epoch 93/1000\n",
            " 1/32 [..............................] - ETA: 0s - loss: 0.6527 - accuracy: 0.7109\n",
            "Epoch 93: saving model to model/keypoint_classifier/keypoint_classifier.hdf5\n",
            "32/32 [==============================] - 0s 976us/step - loss: 0.7553 - accuracy: 0.7236 - val_loss: 0.3740 - val_accuracy: 0.9169\n",
            "Epoch 94/1000\n",
            " 1/32 [..............................] - ETA: 0s - loss: 0.5658 - accuracy: 0.7656\n",
            "Epoch 94: saving model to model/keypoint_classifier/keypoint_classifier.hdf5\n",
            "32/32 [==============================] - 0s 999us/step - loss: 0.7348 - accuracy: 0.7346 - val_loss: 0.3761 - val_accuracy: 0.9139\n",
            "Epoch 95/1000\n",
            " 1/32 [..............................] - ETA: 0s - loss: 0.6226 - accuracy: 0.8125\n",
            "Epoch 95: saving model to model/keypoint_classifier/keypoint_classifier.hdf5\n",
            "32/32 [==============================] - 0s 1ms/step - loss: 0.7307 - accuracy: 0.7304 - val_loss: 0.3706 - val_accuracy: 0.9176\n",
            "Epoch 96/1000\n",
            " 1/32 [..............................] - ETA: 0s - loss: 0.7228 - accuracy: 0.7109\n",
            "Epoch 96: saving model to model/keypoint_classifier/keypoint_classifier.hdf5\n",
            "32/32 [==============================] - 0s 1ms/step - loss: 0.7605 - accuracy: 0.7179 - val_loss: 0.3744 - val_accuracy: 0.9146\n",
            "Epoch 97/1000\n",
            " 1/32 [..............................] - ETA: 0s - loss: 0.8864 - accuracy: 0.6875\n",
            "Epoch 97: saving model to model/keypoint_classifier/keypoint_classifier.hdf5\n",
            "32/32 [==============================] - 0s 1ms/step - loss: 0.7494 - accuracy: 0.7314 - val_loss: 0.3821 - val_accuracy: 0.9132\n",
            "Epoch 98/1000\n",
            " 1/32 [..............................] - ETA: 0s - loss: 0.6763 - accuracy: 0.7266\n",
            "Epoch 98: saving model to model/keypoint_classifier/keypoint_classifier.hdf5\n",
            "32/32 [==============================] - 0s 1ms/step - loss: 0.7417 - accuracy: 0.7295 - val_loss: 0.3748 - val_accuracy: 0.9110\n",
            "Epoch 99/1000\n",
            " 1/32 [..............................] - ETA: 0s - loss: 0.7957 - accuracy: 0.7188\n",
            "Epoch 99: saving model to model/keypoint_classifier/keypoint_classifier.hdf5\n",
            "32/32 [==============================] - 0s 1ms/step - loss: 0.7367 - accuracy: 0.7380 - val_loss: 0.3756 - val_accuracy: 0.9065\n",
            "Epoch 100/1000\n",
            " 1/32 [..............................] - ETA: 0s - loss: 0.7727 - accuracy: 0.7031\n",
            "Epoch 100: saving model to model/keypoint_classifier/keypoint_classifier.hdf5\n",
            "32/32 [==============================] - 0s 997us/step - loss: 0.7441 - accuracy: 0.7275 - val_loss: 0.3687 - val_accuracy: 0.9154\n",
            "Epoch 101/1000\n",
            " 1/32 [..............................] - ETA: 0s - loss: 0.7840 - accuracy: 0.7266\n",
            "Epoch 101: saving model to model/keypoint_classifier/keypoint_classifier.hdf5\n",
            "32/32 [==============================] - 0s 1ms/step - loss: 0.7542 - accuracy: 0.7233 - val_loss: 0.3707 - val_accuracy: 0.9213\n",
            "Epoch 102/1000\n",
            " 1/32 [..............................] - ETA: 0s - loss: 0.7912 - accuracy: 0.6875\n",
            "Epoch 102: saving model to model/keypoint_classifier/keypoint_classifier.hdf5\n",
            "32/32 [==============================] - 0s 1000us/step - loss: 0.7347 - accuracy: 0.7319 - val_loss: 0.3680 - val_accuracy: 0.9205\n",
            "Epoch 103/1000\n",
            " 1/32 [..............................] - ETA: 0s - loss: 0.7700 - accuracy: 0.6562\n",
            "Epoch 103: saving model to model/keypoint_classifier/keypoint_classifier.hdf5\n",
            "32/32 [==============================] - 0s 982us/step - loss: 0.7191 - accuracy: 0.7444 - val_loss: 0.3641 - val_accuracy: 0.9139\n",
            "Epoch 104/1000\n",
            " 1/32 [..............................] - ETA: 0s - loss: 0.6646 - accuracy: 0.7891\n",
            "Epoch 104: saving model to model/keypoint_classifier/keypoint_classifier.hdf5\n",
            "32/32 [==============================] - 0s 1ms/step - loss: 0.7310 - accuracy: 0.7383 - val_loss: 0.3641 - val_accuracy: 0.9183\n",
            "Epoch 105/1000\n",
            " 1/32 [..............................] - ETA: 0s - loss: 0.7472 - accuracy: 0.7109\n",
            "Epoch 105: saving model to model/keypoint_classifier/keypoint_classifier.hdf5\n",
            "32/32 [==============================] - 0s 1ms/step - loss: 0.7335 - accuracy: 0.7351 - val_loss: 0.3666 - val_accuracy: 0.9227\n",
            "Epoch 106/1000\n",
            " 1/32 [..............................] - ETA: 0s - loss: 0.6817 - accuracy: 0.7734\n",
            "Epoch 106: saving model to model/keypoint_classifier/keypoint_classifier.hdf5\n",
            "32/32 [==============================] - 0s 1ms/step - loss: 0.7142 - accuracy: 0.7390 - val_loss: 0.3589 - val_accuracy: 0.9227\n",
            "Epoch 107/1000\n",
            " 1/32 [..............................] - ETA: 0s - loss: 0.8859 - accuracy: 0.6719\n",
            "Epoch 107: saving model to model/keypoint_classifier/keypoint_classifier.hdf5\n",
            "32/32 [==============================] - 0s 992us/step - loss: 0.7462 - accuracy: 0.7260 - val_loss: 0.3564 - val_accuracy: 0.9191\n",
            "Epoch 108/1000\n",
            " 1/32 [..............................] - ETA: 0s - loss: 0.7443 - accuracy: 0.7422\n",
            "Epoch 108: saving model to model/keypoint_classifier/keypoint_classifier.hdf5\n",
            "32/32 [==============================] - 0s 1ms/step - loss: 0.7196 - accuracy: 0.7371 - val_loss: 0.3590 - val_accuracy: 0.9249\n",
            "Epoch 109/1000\n",
            " 1/32 [..............................] - ETA: 0s - loss: 0.6132 - accuracy: 0.7734\n",
            "Epoch 109: saving model to model/keypoint_classifier/keypoint_classifier.hdf5\n",
            "32/32 [==============================] - 0s 1ms/step - loss: 0.7362 - accuracy: 0.7253 - val_loss: 0.3559 - val_accuracy: 0.9294\n",
            "Epoch 110/1000\n",
            " 1/32 [..............................] - ETA: 0s - loss: 0.7343 - accuracy: 0.6953\n",
            "Epoch 110: saving model to model/keypoint_classifier/keypoint_classifier.hdf5\n",
            "32/32 [==============================] - 0s 998us/step - loss: 0.7144 - accuracy: 0.7393 - val_loss: 0.3499 - val_accuracy: 0.9301\n",
            "Epoch 111/1000\n",
            " 1/32 [..............................] - ETA: 0s - loss: 0.6938 - accuracy: 0.8047\n",
            "Epoch 111: saving model to model/keypoint_classifier/keypoint_classifier.hdf5\n",
            "32/32 [==============================] - 0s 1ms/step - loss: 0.7054 - accuracy: 0.7486 - val_loss: 0.3473 - val_accuracy: 0.9286\n",
            "Epoch 112/1000\n",
            " 1/32 [..............................] - ETA: 0s - loss: 0.7770 - accuracy: 0.7344\n",
            "Epoch 112: saving model to model/keypoint_classifier/keypoint_classifier.hdf5\n",
            "32/32 [==============================] - 0s 985us/step - loss: 0.7156 - accuracy: 0.7363 - val_loss: 0.3493 - val_accuracy: 0.9257\n",
            "Epoch 113/1000\n",
            " 1/32 [..............................] - ETA: 0s - loss: 0.7240 - accuracy: 0.7031\n",
            "Epoch 113: saving model to model/keypoint_classifier/keypoint_classifier.hdf5\n",
            "32/32 [==============================] - 0s 994us/step - loss: 0.7077 - accuracy: 0.7469 - val_loss: 0.3592 - val_accuracy: 0.9220\n",
            "Epoch 114/1000\n",
            " 1/32 [..............................] - ETA: 0s - loss: 0.7577 - accuracy: 0.6875\n",
            "Epoch 114: saving model to model/keypoint_classifier/keypoint_classifier.hdf5\n",
            "32/32 [==============================] - 0s 998us/step - loss: 0.7399 - accuracy: 0.7346 - val_loss: 0.3542 - val_accuracy: 0.9242\n",
            "Epoch 115/1000\n",
            " 1/32 [..............................] - ETA: 0s - loss: 0.8366 - accuracy: 0.6719\n",
            "Epoch 115: saving model to model/keypoint_classifier/keypoint_classifier.hdf5\n",
            "32/32 [==============================] - 0s 978us/step - loss: 0.7371 - accuracy: 0.7297 - val_loss: 0.3527 - val_accuracy: 0.9272\n",
            "Epoch 116/1000\n",
            " 1/32 [..............................] - ETA: 0s - loss: 0.7932 - accuracy: 0.7266\n",
            "Epoch 116: saving model to model/keypoint_classifier/keypoint_classifier.hdf5\n",
            "32/32 [==============================] - 0s 1ms/step - loss: 0.7298 - accuracy: 0.7280 - val_loss: 0.3553 - val_accuracy: 0.9279\n",
            "Epoch 117/1000\n",
            " 1/32 [..............................] - ETA: 0s - loss: 0.7645 - accuracy: 0.6719\n",
            "Epoch 117: saving model to model/keypoint_classifier/keypoint_classifier.hdf5\n",
            "32/32 [==============================] - 0s 1ms/step - loss: 0.7213 - accuracy: 0.7341 - val_loss: 0.3552 - val_accuracy: 0.9249\n",
            "Epoch 118/1000\n",
            " 1/32 [..............................] - ETA: 0s - loss: 0.8847 - accuracy: 0.7188\n",
            "Epoch 118: saving model to model/keypoint_classifier/keypoint_classifier.hdf5\n",
            "32/32 [==============================] - 0s 997us/step - loss: 0.7187 - accuracy: 0.7444 - val_loss: 0.3585 - val_accuracy: 0.9183\n",
            "Epoch 119/1000\n",
            " 1/32 [..............................] - ETA: 0s - loss: 0.7217 - accuracy: 0.7656\n",
            "Epoch 119: saving model to model/keypoint_classifier/keypoint_classifier.hdf5\n",
            "32/32 [==============================] - 0s 1ms/step - loss: 0.7109 - accuracy: 0.7383 - val_loss: 0.3527 - val_accuracy: 0.9264\n",
            "Epoch 120/1000\n",
            " 1/32 [..............................] - ETA: 0s - loss: 0.6551 - accuracy: 0.7891\n",
            "Epoch 120: saving model to model/keypoint_classifier/keypoint_classifier.hdf5\n",
            "32/32 [==============================] - 0s 1ms/step - loss: 0.6961 - accuracy: 0.7513 - val_loss: 0.3446 - val_accuracy: 0.9294\n",
            "Epoch 121/1000\n",
            " 1/32 [..............................] - ETA: 0s - loss: 0.6248 - accuracy: 0.7969\n",
            "Epoch 121: saving model to model/keypoint_classifier/keypoint_classifier.hdf5\n",
            "32/32 [==============================] - 0s 991us/step - loss: 0.7131 - accuracy: 0.7395 - val_loss: 0.3516 - val_accuracy: 0.9308\n",
            "Epoch 122/1000\n",
            " 1/32 [..............................] - ETA: 0s - loss: 0.7382 - accuracy: 0.7422\n",
            "Epoch 122: saving model to model/keypoint_classifier/keypoint_classifier.hdf5\n",
            "32/32 [==============================] - 0s 981us/step - loss: 0.7088 - accuracy: 0.7388 - val_loss: 0.3510 - val_accuracy: 0.9279\n",
            "Epoch 123/1000\n",
            " 1/32 [..............................] - ETA: 0s - loss: 0.8682 - accuracy: 0.6250\n",
            "Epoch 123: saving model to model/keypoint_classifier/keypoint_classifier.hdf5\n",
            "32/32 [==============================] - 0s 989us/step - loss: 0.7183 - accuracy: 0.7319 - val_loss: 0.3465 - val_accuracy: 0.9330\n",
            "Epoch 124/1000\n",
            " 1/32 [..............................] - ETA: 0s - loss: 0.8478 - accuracy: 0.6797\n",
            "Epoch 124: saving model to model/keypoint_classifier/keypoint_classifier.hdf5\n",
            "32/32 [==============================] - 0s 995us/step - loss: 0.7305 - accuracy: 0.7371 - val_loss: 0.3497 - val_accuracy: 0.9264\n",
            "Epoch 125/1000\n",
            " 1/32 [..............................] - ETA: 0s - loss: 0.7151 - accuracy: 0.7422\n",
            "Epoch 125: saving model to model/keypoint_classifier/keypoint_classifier.hdf5\n",
            "32/32 [==============================] - 0s 1ms/step - loss: 0.7390 - accuracy: 0.7282 - val_loss: 0.3477 - val_accuracy: 0.9286\n",
            "Epoch 126/1000\n",
            " 1/32 [..............................] - ETA: 0s - loss: 0.8084 - accuracy: 0.7188\n",
            "Epoch 126: saving model to model/keypoint_classifier/keypoint_classifier.hdf5\n",
            "32/32 [==============================] - 0s 1ms/step - loss: 0.7441 - accuracy: 0.7334 - val_loss: 0.3488 - val_accuracy: 0.9257\n",
            "Epoch 127/1000\n",
            " 1/32 [..............................] - ETA: 0s - loss: 0.8031 - accuracy: 0.6797\n",
            "Epoch 127: saving model to model/keypoint_classifier/keypoint_classifier.hdf5\n",
            "32/32 [==============================] - 0s 1ms/step - loss: 0.7333 - accuracy: 0.7344 - val_loss: 0.3551 - val_accuracy: 0.9352\n",
            "Epoch 128/1000\n",
            " 1/32 [..............................] - ETA: 0s - loss: 0.7189 - accuracy: 0.7266\n",
            "Epoch 128: saving model to model/keypoint_classifier/keypoint_classifier.hdf5\n",
            "32/32 [==============================] - 0s 970us/step - loss: 0.7117 - accuracy: 0.7400 - val_loss: 0.3506 - val_accuracy: 0.9316\n",
            "Epoch 129/1000\n",
            " 1/32 [..............................] - ETA: 0s - loss: 0.7664 - accuracy: 0.7578\n",
            "Epoch 129: saving model to model/keypoint_classifier/keypoint_classifier.hdf5\n",
            "32/32 [==============================] - 0s 987us/step - loss: 0.6965 - accuracy: 0.7466 - val_loss: 0.3424 - val_accuracy: 0.9330\n",
            "Epoch 130/1000\n",
            " 1/32 [..............................] - ETA: 0s - loss: 0.7072 - accuracy: 0.7734\n",
            "Epoch 130: saving model to model/keypoint_classifier/keypoint_classifier.hdf5\n",
            "32/32 [==============================] - 0s 998us/step - loss: 0.7100 - accuracy: 0.7363 - val_loss: 0.3464 - val_accuracy: 0.9279\n",
            "Epoch 131/1000\n",
            " 1/32 [..............................] - ETA: 0s - loss: 0.6555 - accuracy: 0.7812\n",
            "Epoch 131: saving model to model/keypoint_classifier/keypoint_classifier.hdf5\n",
            "32/32 [==============================] - 0s 975us/step - loss: 0.7079 - accuracy: 0.7491 - val_loss: 0.3438 - val_accuracy: 0.9294\n",
            "Epoch 132/1000\n",
            " 1/32 [..............................] - ETA: 0s - loss: 0.6769 - accuracy: 0.7500\n",
            "Epoch 132: saving model to model/keypoint_classifier/keypoint_classifier.hdf5\n",
            "32/32 [==============================] - 0s 999us/step - loss: 0.7070 - accuracy: 0.7488 - val_loss: 0.3469 - val_accuracy: 0.9272\n",
            "Epoch 133/1000\n",
            " 1/32 [..............................] - ETA: 0s - loss: 0.8124 - accuracy: 0.7188\n",
            "Epoch 133: saving model to model/keypoint_classifier/keypoint_classifier.hdf5\n",
            "32/32 [==============================] - 0s 1ms/step - loss: 0.7124 - accuracy: 0.7474 - val_loss: 0.3384 - val_accuracy: 0.9316\n",
            "Epoch 134/1000\n",
            " 1/32 [..............................] - ETA: 0s - loss: 0.8298 - accuracy: 0.6641\n",
            "Epoch 134: saving model to model/keypoint_classifier/keypoint_classifier.hdf5\n",
            "32/32 [==============================] - 0s 1ms/step - loss: 0.7088 - accuracy: 0.7398 - val_loss: 0.3376 - val_accuracy: 0.9301\n",
            "Epoch 135/1000\n",
            " 1/32 [..............................] - ETA: 0s - loss: 0.6582 - accuracy: 0.7656\n",
            "Epoch 135: saving model to model/keypoint_classifier/keypoint_classifier.hdf5\n",
            "32/32 [==============================] - 0s 987us/step - loss: 0.7211 - accuracy: 0.7395 - val_loss: 0.3367 - val_accuracy: 0.9330\n",
            "Epoch 136/1000\n",
            " 1/32 [..............................] - ETA: 0s - loss: 0.6026 - accuracy: 0.7812\n",
            "Epoch 136: saving model to model/keypoint_classifier/keypoint_classifier.hdf5\n",
            "32/32 [==============================] - 0s 1000us/step - loss: 0.6978 - accuracy: 0.7452 - val_loss: 0.3459 - val_accuracy: 0.9301\n",
            "Epoch 137/1000\n",
            " 1/32 [..............................] - ETA: 0s - loss: 0.5664 - accuracy: 0.7812\n",
            "Epoch 137: saving model to model/keypoint_classifier/keypoint_classifier.hdf5\n",
            "32/32 [==============================] - 0s 962us/step - loss: 0.7024 - accuracy: 0.7518 - val_loss: 0.3404 - val_accuracy: 0.9294\n",
            "Epoch 138/1000\n",
            " 1/32 [..............................] - ETA: 0s - loss: 0.6107 - accuracy: 0.7734\n",
            "Epoch 138: saving model to model/keypoint_classifier/keypoint_classifier.hdf5\n",
            "32/32 [==============================] - 0s 995us/step - loss: 0.7174 - accuracy: 0.7398 - val_loss: 0.3386 - val_accuracy: 0.9308\n",
            "Epoch 139/1000\n",
            " 1/32 [..............................] - ETA: 0s - loss: 0.6976 - accuracy: 0.7734\n",
            "Epoch 139: saving model to model/keypoint_classifier/keypoint_classifier.hdf5\n",
            "32/32 [==============================] - 0s 980us/step - loss: 0.7274 - accuracy: 0.7395 - val_loss: 0.3429 - val_accuracy: 0.9367\n",
            "Epoch 140/1000\n",
            " 1/32 [..............................] - ETA: 0s - loss: 0.7484 - accuracy: 0.7266\n",
            "Epoch 140: saving model to model/keypoint_classifier/keypoint_classifier.hdf5\n",
            "32/32 [==============================] - 0s 959us/step - loss: 0.6979 - accuracy: 0.7523 - val_loss: 0.3433 - val_accuracy: 0.9330\n",
            "Epoch 141/1000\n",
            " 1/32 [..............................] - ETA: 0s - loss: 0.8895 - accuracy: 0.7031\n",
            "Epoch 141: saving model to model/keypoint_classifier/keypoint_classifier.hdf5\n",
            "32/32 [==============================] - 0s 978us/step - loss: 0.6932 - accuracy: 0.7547 - val_loss: 0.3372 - val_accuracy: 0.9286\n",
            "Epoch 142/1000\n",
            " 1/32 [..............................] - ETA: 0s - loss: 0.6865 - accuracy: 0.7188\n",
            "Epoch 142: saving model to model/keypoint_classifier/keypoint_classifier.hdf5\n",
            "32/32 [==============================] - 0s 973us/step - loss: 0.7048 - accuracy: 0.7385 - val_loss: 0.3350 - val_accuracy: 0.9301\n",
            "Epoch 143/1000\n",
            " 1/32 [..............................] - ETA: 0s - loss: 0.7171 - accuracy: 0.7578\n",
            "Epoch 143: saving model to model/keypoint_classifier/keypoint_classifier.hdf5\n",
            "32/32 [==============================] - 0s 1ms/step - loss: 0.7196 - accuracy: 0.7427 - val_loss: 0.3361 - val_accuracy: 0.9367\n",
            "Epoch 144/1000\n",
            " 1/32 [..............................] - ETA: 0s - loss: 0.7222 - accuracy: 0.7422\n",
            "Epoch 144: saving model to model/keypoint_classifier/keypoint_classifier.hdf5\n",
            "32/32 [==============================] - 0s 1ms/step - loss: 0.7070 - accuracy: 0.7429 - val_loss: 0.3450 - val_accuracy: 0.9294\n",
            "Epoch 145/1000\n",
            " 1/32 [..............................] - ETA: 0s - loss: 0.6528 - accuracy: 0.7422\n",
            "Epoch 145: saving model to model/keypoint_classifier/keypoint_classifier.hdf5\n",
            "32/32 [==============================] - 0s 1ms/step - loss: 0.7128 - accuracy: 0.7385 - val_loss: 0.3364 - val_accuracy: 0.9338\n",
            "Epoch 146/1000\n",
            " 1/32 [..............................] - ETA: 0s - loss: 0.7239 - accuracy: 0.6875\n",
            "Epoch 146: saving model to model/keypoint_classifier/keypoint_classifier.hdf5\n",
            "32/32 [==============================] - 0s 999us/step - loss: 0.7063 - accuracy: 0.7383 - val_loss: 0.3360 - val_accuracy: 0.9338\n",
            "Epoch 147/1000\n",
            " 1/32 [..............................] - ETA: 0s - loss: 0.6425 - accuracy: 0.7422\n",
            "Epoch 147: saving model to model/keypoint_classifier/keypoint_classifier.hdf5\n",
            "32/32 [==============================] - 0s 992us/step - loss: 0.7176 - accuracy: 0.7371 - val_loss: 0.3364 - val_accuracy: 0.9375\n",
            "Epoch 148/1000\n",
            " 1/32 [..............................] - ETA: 0s - loss: 0.5762 - accuracy: 0.7891\n",
            "Epoch 148: saving model to model/keypoint_classifier/keypoint_classifier.hdf5\n",
            "32/32 [==============================] - 0s 993us/step - loss: 0.7143 - accuracy: 0.7407 - val_loss: 0.3444 - val_accuracy: 0.9345\n",
            "Epoch 149/1000\n",
            " 1/32 [..............................] - ETA: 0s - loss: 0.8605 - accuracy: 0.6875\n",
            "Epoch 149: saving model to model/keypoint_classifier/keypoint_classifier.hdf5\n",
            "32/32 [==============================] - 0s 957us/step - loss: 0.7190 - accuracy: 0.7398 - val_loss: 0.3434 - val_accuracy: 0.9360\n",
            "Epoch 150/1000\n",
            " 1/32 [..............................] - ETA: 0s - loss: 0.6203 - accuracy: 0.7969\n",
            "Epoch 150: saving model to model/keypoint_classifier/keypoint_classifier.hdf5\n",
            "32/32 [==============================] - 0s 1ms/step - loss: 0.6902 - accuracy: 0.7501 - val_loss: 0.3438 - val_accuracy: 0.9308\n",
            "Epoch 151/1000\n",
            " 1/32 [..............................] - ETA: 0s - loss: 0.6821 - accuracy: 0.7500\n",
            "Epoch 151: saving model to model/keypoint_classifier/keypoint_classifier.hdf5\n",
            "32/32 [==============================] - 0s 998us/step - loss: 0.6733 - accuracy: 0.7535 - val_loss: 0.3447 - val_accuracy: 0.9345\n",
            "Epoch 152/1000\n",
            " 1/32 [..............................] - ETA: 0s - loss: 0.7817 - accuracy: 0.7344\n",
            "Epoch 152: saving model to model/keypoint_classifier/keypoint_classifier.hdf5\n",
            "32/32 [==============================] - 0s 989us/step - loss: 0.6697 - accuracy: 0.7599 - val_loss: 0.3394 - val_accuracy: 0.9316\n",
            "Epoch 153/1000\n",
            " 1/32 [..............................] - ETA: 0s - loss: 0.7554 - accuracy: 0.6953\n",
            "Epoch 153: saving model to model/keypoint_classifier/keypoint_classifier.hdf5\n",
            "32/32 [==============================] - 0s 975us/step - loss: 0.6947 - accuracy: 0.7518 - val_loss: 0.3266 - val_accuracy: 0.9345\n",
            "Epoch 154/1000\n",
            " 1/32 [..............................] - ETA: 0s - loss: 0.7117 - accuracy: 0.7500\n",
            "Epoch 154: saving model to model/keypoint_classifier/keypoint_classifier.hdf5\n",
            "32/32 [==============================] - 0s 988us/step - loss: 0.6896 - accuracy: 0.7486 - val_loss: 0.3276 - val_accuracy: 0.9360\n",
            "Epoch 155/1000\n",
            " 1/32 [..............................] - ETA: 0s - loss: 0.6193 - accuracy: 0.7578\n",
            "Epoch 155: saving model to model/keypoint_classifier/keypoint_classifier.hdf5\n",
            "32/32 [==============================] - 0s 1ms/step - loss: 0.6765 - accuracy: 0.7579 - val_loss: 0.3299 - val_accuracy: 0.9360\n",
            "Epoch 156/1000\n",
            " 1/32 [..............................] - ETA: 0s - loss: 0.7991 - accuracy: 0.7266\n",
            "Epoch 156: saving model to model/keypoint_classifier/keypoint_classifier.hdf5\n",
            "32/32 [==============================] - 0s 993us/step - loss: 0.7182 - accuracy: 0.7422 - val_loss: 0.3344 - val_accuracy: 0.9382\n",
            "Epoch 157/1000\n",
            " 1/32 [..............................] - ETA: 0s - loss: 0.8018 - accuracy: 0.6641\n",
            "Epoch 157: saving model to model/keypoint_classifier/keypoint_classifier.hdf5\n",
            "32/32 [==============================] - 0s 1ms/step - loss: 0.6821 - accuracy: 0.7525 - val_loss: 0.3254 - val_accuracy: 0.9330\n",
            "Epoch 158/1000\n",
            " 1/32 [..............................] - ETA: 0s - loss: 0.7891 - accuracy: 0.7188\n",
            "Epoch 158: saving model to model/keypoint_classifier/keypoint_classifier.hdf5\n",
            "32/32 [==============================] - 0s 1ms/step - loss: 0.6934 - accuracy: 0.7552 - val_loss: 0.3358 - val_accuracy: 0.9426\n",
            "Epoch 159/1000\n",
            " 1/32 [..............................] - ETA: 0s - loss: 0.5565 - accuracy: 0.7891\n",
            "Epoch 159: saving model to model/keypoint_classifier/keypoint_classifier.hdf5\n",
            "32/32 [==============================] - 0s 1ms/step - loss: 0.6829 - accuracy: 0.7540 - val_loss: 0.3251 - val_accuracy: 0.9367\n",
            "Epoch 160/1000\n",
            " 1/32 [..............................] - ETA: 0s - loss: 0.7342 - accuracy: 0.7109\n",
            "Epoch 160: saving model to model/keypoint_classifier/keypoint_classifier.hdf5\n",
            "32/32 [==============================] - 0s 987us/step - loss: 0.7104 - accuracy: 0.7429 - val_loss: 0.3347 - val_accuracy: 0.9279\n",
            "Epoch 161/1000\n",
            " 1/32 [..............................] - ETA: 0s - loss: 0.6961 - accuracy: 0.7422\n",
            "Epoch 161: saving model to model/keypoint_classifier/keypoint_classifier.hdf5\n",
            "32/32 [==============================] - 0s 1ms/step - loss: 0.6992 - accuracy: 0.7515 - val_loss: 0.3342 - val_accuracy: 0.9272\n",
            "Epoch 162/1000\n",
            " 1/32 [..............................] - ETA: 0s - loss: 0.7359 - accuracy: 0.7734\n",
            "Epoch 162: saving model to model/keypoint_classifier/keypoint_classifier.hdf5\n",
            "32/32 [==============================] - 0s 989us/step - loss: 0.6964 - accuracy: 0.7429 - val_loss: 0.3328 - val_accuracy: 0.9338\n",
            "Epoch 163/1000\n",
            " 1/32 [..............................] - ETA: 0s - loss: 0.7588 - accuracy: 0.7109\n",
            "Epoch 163: saving model to model/keypoint_classifier/keypoint_classifier.hdf5\n",
            "32/32 [==============================] - 0s 1000us/step - loss: 0.6868 - accuracy: 0.7574 - val_loss: 0.3296 - val_accuracy: 0.9367\n",
            "Epoch 164/1000\n",
            " 1/32 [..............................] - ETA: 0s - loss: 0.6226 - accuracy: 0.7422\n",
            "Epoch 164: saving model to model/keypoint_classifier/keypoint_classifier.hdf5\n",
            "32/32 [==============================] - 0s 994us/step - loss: 0.6874 - accuracy: 0.7525 - val_loss: 0.3267 - val_accuracy: 0.9323\n",
            "Epoch 165/1000\n",
            " 1/32 [..............................] - ETA: 0s - loss: 0.6362 - accuracy: 0.7812\n",
            "Epoch 165: saving model to model/keypoint_classifier/keypoint_classifier.hdf5\n",
            "32/32 [==============================] - 0s 1ms/step - loss: 0.6826 - accuracy: 0.7567 - val_loss: 0.3209 - val_accuracy: 0.9323\n",
            "Epoch 166/1000\n",
            " 1/32 [..............................] - ETA: 0s - loss: 0.7500 - accuracy: 0.7031\n",
            "Epoch 166: saving model to model/keypoint_classifier/keypoint_classifier.hdf5\n",
            "32/32 [==============================] - 0s 1ms/step - loss: 0.6969 - accuracy: 0.7540 - val_loss: 0.3280 - val_accuracy: 0.9352\n",
            "Epoch 167/1000\n",
            " 1/32 [..............................] - ETA: 0s - loss: 0.7064 - accuracy: 0.7500\n",
            "Epoch 167: saving model to model/keypoint_classifier/keypoint_classifier.hdf5\n",
            "32/32 [==============================] - 0s 984us/step - loss: 0.7000 - accuracy: 0.7437 - val_loss: 0.3262 - val_accuracy: 0.9389\n",
            "Epoch 168/1000\n",
            " 1/32 [..............................] - ETA: 0s - loss: 0.6224 - accuracy: 0.7266\n",
            "Epoch 168: saving model to model/keypoint_classifier/keypoint_classifier.hdf5\n",
            "32/32 [==============================] - 0s 999us/step - loss: 0.6819 - accuracy: 0.7503 - val_loss: 0.3352 - val_accuracy: 0.9323\n",
            "Epoch 169/1000\n",
            " 1/32 [..............................] - ETA: 0s - loss: 0.6760 - accuracy: 0.7656\n",
            "Epoch 169: saving model to model/keypoint_classifier/keypoint_classifier.hdf5\n",
            "32/32 [==============================] - 0s 1ms/step - loss: 0.6891 - accuracy: 0.7486 - val_loss: 0.3309 - val_accuracy: 0.9316\n",
            "Epoch 170/1000\n",
            " 1/32 [..............................] - ETA: 0s - loss: 0.6144 - accuracy: 0.7734\n",
            "Epoch 170: saving model to model/keypoint_classifier/keypoint_classifier.hdf5\n",
            "32/32 [==============================] - 0s 1ms/step - loss: 0.6979 - accuracy: 0.7488 - val_loss: 0.3331 - val_accuracy: 0.9345\n",
            "Epoch 171/1000\n",
            " 1/32 [..............................] - ETA: 0s - loss: 0.6675 - accuracy: 0.7578\n",
            "Epoch 171: saving model to model/keypoint_classifier/keypoint_classifier.hdf5\n",
            "32/32 [==============================] - 0s 1ms/step - loss: 0.6986 - accuracy: 0.7454 - val_loss: 0.3305 - val_accuracy: 0.9382\n",
            "Epoch 172/1000\n",
            " 1/32 [..............................] - ETA: 0s - loss: 0.6825 - accuracy: 0.6953\n",
            "Epoch 172: saving model to model/keypoint_classifier/keypoint_classifier.hdf5\n",
            "32/32 [==============================] - 0s 1ms/step - loss: 0.6642 - accuracy: 0.7611 - val_loss: 0.3242 - val_accuracy: 0.9389\n",
            "Epoch 173/1000\n",
            " 1/32 [..............................] - ETA: 0s - loss: 0.6745 - accuracy: 0.7656\n",
            "Epoch 173: saving model to model/keypoint_classifier/keypoint_classifier.hdf5\n",
            "32/32 [==============================] - 0s 1ms/step - loss: 0.7055 - accuracy: 0.7434 - val_loss: 0.3257 - val_accuracy: 0.9433\n",
            "Epoch 174/1000\n",
            " 1/32 [..............................] - ETA: 0s - loss: 0.6139 - accuracy: 0.7969\n",
            "Epoch 174: saving model to model/keypoint_classifier/keypoint_classifier.hdf5\n",
            "32/32 [==============================] - 0s 1ms/step - loss: 0.6869 - accuracy: 0.7540 - val_loss: 0.3209 - val_accuracy: 0.9404\n",
            "Epoch 175/1000\n",
            " 1/32 [..............................] - ETA: 0s - loss: 0.6305 - accuracy: 0.7500\n",
            "Epoch 175: saving model to model/keypoint_classifier/keypoint_classifier.hdf5\n",
            "32/32 [==============================] - 0s 1ms/step - loss: 0.6747 - accuracy: 0.7591 - val_loss: 0.3295 - val_accuracy: 0.9382\n",
            "Epoch 176/1000\n",
            " 1/32 [..............................] - ETA: 0s - loss: 0.6938 - accuracy: 0.6797\n",
            "Epoch 176: saving model to model/keypoint_classifier/keypoint_classifier.hdf5\n",
            "32/32 [==============================] - 0s 1ms/step - loss: 0.6717 - accuracy: 0.7488 - val_loss: 0.3257 - val_accuracy: 0.9301\n",
            "Epoch 177/1000\n",
            " 1/32 [..............................] - ETA: 0s - loss: 0.6714 - accuracy: 0.6953\n",
            "Epoch 177: saving model to model/keypoint_classifier/keypoint_classifier.hdf5\n",
            "32/32 [==============================] - 0s 1ms/step - loss: 0.6939 - accuracy: 0.7486 - val_loss: 0.3370 - val_accuracy: 0.9301\n",
            "Epoch 178/1000\n",
            " 1/32 [..............................] - ETA: 0s - loss: 0.6656 - accuracy: 0.7656\n",
            "Epoch 178: saving model to model/keypoint_classifier/keypoint_classifier.hdf5\n",
            "32/32 [==============================] - 0s 1ms/step - loss: 0.6894 - accuracy: 0.7481 - val_loss: 0.3297 - val_accuracy: 0.9360\n",
            "Epoch 179/1000\n",
            " 1/32 [..............................] - ETA: 0s - loss: 0.7748 - accuracy: 0.7422\n",
            "Epoch 179: saving model to model/keypoint_classifier/keypoint_classifier.hdf5\n",
            "32/32 [==============================] - 0s 1ms/step - loss: 0.6777 - accuracy: 0.7552 - val_loss: 0.3286 - val_accuracy: 0.9345\n",
            "Epoch 180/1000\n",
            " 1/32 [..............................] - ETA: 0s - loss: 0.5643 - accuracy: 0.7891\n",
            "Epoch 180: saving model to model/keypoint_classifier/keypoint_classifier.hdf5\n",
            "32/32 [==============================] - 0s 1ms/step - loss: 0.6987 - accuracy: 0.7471 - val_loss: 0.3296 - val_accuracy: 0.9345\n",
            "Epoch 181/1000\n",
            " 1/32 [..............................] - ETA: 0s - loss: 0.6533 - accuracy: 0.7578\n",
            "Epoch 181: saving model to model/keypoint_classifier/keypoint_classifier.hdf5\n",
            "32/32 [==============================] - 0s 1ms/step - loss: 0.6804 - accuracy: 0.7528 - val_loss: 0.3209 - val_accuracy: 0.9397\n",
            "Epoch 182/1000\n",
            " 1/32 [..............................] - ETA: 0s - loss: 0.6396 - accuracy: 0.7500\n",
            "Epoch 182: saving model to model/keypoint_classifier/keypoint_classifier.hdf5\n",
            "32/32 [==============================] - 0s 1ms/step - loss: 0.6967 - accuracy: 0.7493 - val_loss: 0.3245 - val_accuracy: 0.9360\n",
            "Epoch 183/1000\n",
            " 1/32 [..............................] - ETA: 0s - loss: 0.7017 - accuracy: 0.7656\n",
            "Epoch 183: saving model to model/keypoint_classifier/keypoint_classifier.hdf5\n",
            "32/32 [==============================] - 0s 1ms/step - loss: 0.6901 - accuracy: 0.7454 - val_loss: 0.3288 - val_accuracy: 0.9404\n",
            "Epoch 184/1000\n",
            " 1/32 [..............................] - ETA: 0s - loss: 0.6189 - accuracy: 0.7891\n",
            "Epoch 184: saving model to model/keypoint_classifier/keypoint_classifier.hdf5\n",
            "32/32 [==============================] - 0s 1ms/step - loss: 0.7033 - accuracy: 0.7427 - val_loss: 0.3288 - val_accuracy: 0.9397\n",
            "Epoch 185/1000\n",
            " 1/32 [..............................] - ETA: 0s - loss: 0.7868 - accuracy: 0.7266\n",
            "Epoch 185: saving model to model/keypoint_classifier/keypoint_classifier.hdf5\n",
            "32/32 [==============================] - 0s 1ms/step - loss: 0.6812 - accuracy: 0.7503 - val_loss: 0.3231 - val_accuracy: 0.9389\n",
            "Epoch 185: early stopping\n"
          ]
        },
        {
          "data": {
            "text/plain": [
              "<keras.src.callbacks.History at 0x3605b3b80>"
            ]
          },
          "execution_count": 11,
          "metadata": {},
          "output_type": "execute_result"
        }
      ],
      "source": [
        "model.fit(\n",
        "    X_train,\n",
        "    y_train,\n",
        "    epochs=1000,\n",
        "    batch_size=128,\n",
        "    validation_data=(X_test, y_test),\n",
        "    callbacks=[cp_callback, es_callback]\n",
        ")"
      ]
    },
    {
      "cell_type": "code",
      "execution_count": 12,
      "metadata": {
        "colab": {
          "base_uri": "https://localhost:8080/"
        },
        "id": "pxvb2Y299hE3",
        "outputId": "59eb3185-2e37-4b9e-bc9d-ab1b8ac29b7f"
      },
      "outputs": [
        {
          "name": "stdout",
          "output_type": "stream",
          "text": [
            "11/11 [==============================] - 0s 542us/step - loss: 0.3231 - accuracy: 0.9389\n"
          ]
        }
      ],
      "source": [
        "# Model evaluation\n",
        "val_loss, val_acc = model.evaluate(X_test, y_test, batch_size=128)"
      ]
    },
    {
      "cell_type": "code",
      "execution_count": 13,
      "metadata": {
        "id": "RBkmDeUW9hE4"
      },
      "outputs": [],
      "source": [
        "# Loading the saved model\n",
        "model = tf.keras.models.load_model(model_save_path)"
      ]
    },
    {
      "cell_type": "code",
      "execution_count": 14,
      "metadata": {
        "colab": {
          "base_uri": "https://localhost:8080/"
        },
        "id": "tFz9Tb0I9hE4",
        "outputId": "1c3b3528-54ae-4ee2-ab04-77429211cbef"
      },
      "outputs": [
        {
          "name": "stdout",
          "output_type": "stream",
          "text": [
            "1/1 [==============================] - 0s 46ms/step\n",
            "[0.03308327 0.05374619 0.85823685 0.00109863 0.02900428 0.02483074]\n",
            "2\n"
          ]
        }
      ],
      "source": [
        "# Inference test\n",
        "predict_result = model.predict(np.array([X_test[0]]))\n",
        "print(np.squeeze(predict_result))\n",
        "print(np.argmax(np.squeeze(predict_result)))"
      ]
    },
    {
      "cell_type": "markdown",
      "metadata": {
        "id": "S3U4yNWx9hE4"
      },
      "source": [
        "# Confusion matrix"
      ]
    },
    {
      "cell_type": "code",
      "execution_count": 16,
      "metadata": {
        "colab": {
          "base_uri": "https://localhost:8080/",
          "height": 582
        },
        "id": "AP1V6SCk9hE5",
        "outputId": "08e41a80-7a4a-4619-8125-ecc371368d19"
      },
      "outputs": [
        {
          "name": "stdout",
          "output_type": "stream",
          "text": [
            "43/43 [==============================] - 0s 341us/step\n"
          ]
        },
        {
          "data": {
            "image/png": "[encoded data removed]",
            "text/plain": [
              "<Figure size 700x600 with 2 Axes>"
            ]
          },
          "metadata": {},
          "output_type": "display_data"
        },
        {
          "name": "stdout",
          "output_type": "stream",
          "text": [
            "Classification Report\n",
            "              precision    recall  f1-score   support\n",
            "\n",
            "           0       0.97      0.96      0.97       405\n",
            "           1       0.97      0.93      0.95       387\n",
            "           2       0.87      0.98      0.92       328\n",
            "           3       0.86      1.00      0.92        80\n",
            "           4       1.00      0.79      0.88        81\n",
            "           5       0.98      0.79      0.88        78\n",
            "\n",
            "    accuracy                           0.94      1359\n",
            "   macro avg       0.94      0.91      0.92      1359\n",
            "weighted avg       0.94      0.94      0.94      1359\n",
            "\n"
          ]
        }
      ],
      "source": [
        "import pandas as pd\n",
        "import seaborn as sns\n",
        "import matplotlib.pyplot as plt\n",
        "from sklearn.metrics import confusion_matrix, classification_report\n",
        "\n",
        "def print_confusion_matrix(y_true, y_pred, report=True):\n",
        "    labels = sorted(list(set(y_true)))\n",
        "    cmx_data = confusion_matrix(y_true, y_pred, labels=labels)\n",
        "    \n",
        "    df_cmx = pd.DataFrame(cmx_data, index=labels, columns=labels)\n",
        " \n",
        "    fig, ax = plt.subplots(figsize=(7, 6))\n",
        "    sns.heatmap(df_cmx, annot=True, fmt='g' ,square=False)\n",
        "    ax.set_ylim(len(set(y_true)), 0)\n",
        "    plt.show()\n",
        "    \n",
        "    if report:\n",
        "        print('Classification Report')\n",
        "        print(classification_report(y_test, y_pred))\n",
        "\n",
        "Y_pred = model.predict(X_test)\n",
        "y_pred = np.argmax(Y_pred, axis=1)\n",
        "\n",
        "print_confusion_matrix(y_test, y_pred)"
      ]
    },
    {
      "cell_type": "markdown",
      "metadata": {
        "id": "FNP6aqzc9hE5"
      },
      "source": [
        "# Convert to model for Tensorflow-Lite"
      ]
    },
    {
      "cell_type": "code",
      "execution_count": 17,
      "metadata": {
        "id": "ODjnYyld9hE6"
      },
      "outputs": [
        {
          "name": "stderr",
          "output_type": "stream",
          "text": [
            "/Users/shrijayan.rajendran/Desktop/hand-gesture-recognition-mediapipe/hand_env/lib/python3.8/site-packages/keras/src/engine/training.py:3000: UserWarning: You are saving your model as an HDF5 file via `model.save()`. This file format is considered legacy. We recommend using instead the native Keras format, e.g. `model.save('my_model.keras')`.\n",
            "  saving_api.save_model(\n"
          ]
        }
      ],
      "source": [
        "# Save as a model dedicated to inference\n",
        "model.save(model_save_path, include_optimizer=False)"
      ]
    },
    {
      "cell_type": "code",
      "execution_count": 18,
      "metadata": {
        "colab": {
          "base_uri": "https://localhost:8080/"
        },
        "id": "zRfuK8Y59hE6",
        "outputId": "a4ca585c-b5d5-4244-8291-8674063209bb"
      },
      "outputs": [
        {
          "name": "stdout",
          "output_type": "stream",
          "text": [
            "INFO:tensorflow:Assets written to: /var/folders/h4/8l1qm8k97mn4whg778yd7ckw0000gn/T/tmpbic_xjsx/assets\n"
          ]
        },
        {
          "name": "stderr",
          "output_type": "stream",
          "text": [
            "INFO:tensorflow:Assets written to: /var/folders/h4/8l1qm8k97mn4whg778yd7ckw0000gn/T/tmpbic_xjsx/assets\n",
            "2024-06-06 19:59:21.723732: W tensorflow/compiler/mlir/lite/python/tf_tfl_flatbuffer_helpers.cc:364] Ignored output_format.\n",
            "2024-06-06 19:59:21.723756: W tensorflow/compiler/mlir/lite/python/tf_tfl_flatbuffer_helpers.cc:367] Ignored drop_control_dependency.\n",
            "2024-06-06 19:59:21.724004: I tensorflow/cc/saved_model/reader.cc:45] Reading SavedModel from: /var/folders/h4/8l1qm8k97mn4whg778yd7ckw0000gn/T/tmpbic_xjsx\n",
            "2024-06-06 19:59:21.724568: I tensorflow/cc/saved_model/reader.cc:91] Reading meta graph with tags { serve }\n",
            "2024-06-06 19:59:21.724573: I tensorflow/cc/saved_model/reader.cc:132] Reading SavedModel debug info (if present) from: /var/folders/h4/8l1qm8k97mn4whg778yd7ckw0000gn/T/tmpbic_xjsx\n",
            "2024-06-06 19:59:21.726034: I tensorflow/compiler/mlir/mlir_graph_optimization_pass.cc:375] MLIR V1 optimization pass is not enabled\n",
            "2024-06-06 19:59:21.726740: I tensorflow/cc/saved_model/loader.cc:231] Restoring SavedModel bundle.\n",
            "2024-06-06 19:59:21.751776: I tensorflow/cc/saved_model/loader.cc:215] Running initialization op on SavedModel bundle at path: /var/folders/h4/8l1qm8k97mn4whg778yd7ckw0000gn/T/tmpbic_xjsx\n",
            "2024-06-06 19:59:21.758905: I tensorflow/cc/saved_model/loader.cc:314] SavedModel load for tags { serve }; Status: success: OK. Took 34901 microseconds.\n",
            "2024-06-06 19:59:21.767123: I tensorflow/compiler/mlir/tensorflow/utils/dump_mlir_util.cc:255] disabling MLIR crash reproducer, set env var `MLIR_CRASH_REPRODUCER_DIRECTORY` to enable.\n"
          ]
        },
        {
          "data": {
            "text/plain": [
              "6636"
            ]
          },
          "execution_count": 18,
          "metadata": {},
          "output_type": "execute_result"
        }
      ],
      "source": [
        "# Transform model (quantization)\n",
        "\n",
        "converter = tf.lite.TFLiteConverter.from_keras_model(model)\n",
        "converter.optimizations = [tf.lite.Optimize.DEFAULT]\n",
        "tflite_quantized_model = converter.convert()\n",
        "\n",
        "open(tflite_save_path, 'wb').write(tflite_quantized_model)"
      ]
    },
    {
      "cell_type": "markdown",
      "metadata": {
        "id": "CHBPBXdx9hE6"
      },
      "source": [
        "# Inference test"
      ]
    },
    {
      "cell_type": "code",
      "execution_count": 19,
      "metadata": {
        "id": "mGAzLocO9hE7"
      },
      "outputs": [
        {
          "name": "stderr",
          "output_type": "stream",
          "text": [
            "INFO: Created TensorFlow Lite XNNPACK delegate for CPU.\n"
          ]
        }
      ],
      "source": [
        "interpreter = tf.lite.Interpreter(model_path=tflite_save_path)\n",
        "interpreter.allocate_tensors()"
      ]
    },
    {
      "cell_type": "code",
      "execution_count": 20,
      "metadata": {
        "id": "oQuDK8YS9hE7"
      },
      "outputs": [],
      "source": [
        "# Get I / O tensor\n",
        "input_details = interpreter.get_input_details()\n",
        "output_details = interpreter.get_output_details()"
      ]
    },
    {
      "cell_type": "code",
      "execution_count": 21,
      "metadata": {
        "id": "2_ixAf_l9hE7"
      },
      "outputs": [],
      "source": [
        "interpreter.set_tensor(input_details[0]['index'], np.array([X_test[0]]))"
      ]
    },
    {
      "cell_type": "code",
      "execution_count": 22,
      "metadata": {
        "colab": {
          "base_uri": "https://localhost:8080/"
        },
        "id": "s4FoAnuc9hE7",
        "outputId": "91f18257-8d8b-4ef3-c558-e9b5f94fabbf",
        "scrolled": true
      },
      "outputs": [
        {
          "name": "stdout",
          "output_type": "stream",
          "text": [
            "CPU times: user 257 µs, sys: 194 µs, total: 451 µs\n",
            "Wall time: 327 µs\n"
          ]
        }
      ],
      "source": [
        "%%time\n",
        "# Inference implementation\n",
        "interpreter.invoke()\n",
        "tflite_results = interpreter.get_tensor(output_details[0]['index'])"
      ]
    },
    {
      "cell_type": "code",
      "execution_count": 23,
      "metadata": {
        "colab": {
          "base_uri": "https://localhost:8080/"
        },
        "id": "vONjp19J9hE8",
        "outputId": "77205e24-fd00-42c4-f7b6-e06e527c2cba"
      },
      "outputs": [
        {
          "name": "stdout",
          "output_type": "stream",
          "text": [
            "[0.03308327 0.05374619 0.85823685 0.00109863 0.02900427 0.02483074]\n",
            "2\n"
          ]
        }
      ],
      "source": [
        "print(np.squeeze(tflite_results))\n",
        "print(np.argmax(np.squeeze(tflite_results)))"
      ]
    }
  ],
  "metadata": {
    "accelerator": "GPU",
    "colab": {
      "collapsed_sections": [],
      "name": "keypoint_classification_EN.ipynb",
      "provenance": [],
      "toc_visible": true
    },
    "kernelspec": {
      "display_name": "Python 3",
      "language": "python",
      "name": "python3"
    },
    "language_info": {
      "codemirror_mode": {
        "name": "ipython",
        "version": 3
      },
      "file_extension": ".py",
      "mimetype": "text/x-python",
      "name": "python",
      "nbconvert_exporter": "python",
      "pygments_lexer": "ipython3",
      "version": "3.8.19"
    }
  },
  "nbformat": 4,
  "nbformat_minor": 0
}
